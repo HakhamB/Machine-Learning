{
 "cells": [
  {
   "cell_type": "code",
   "execution_count": 2,
   "id": "11d78a78-6066-438b-b2c5-8e9e98c64291",
   "metadata": {},
   "outputs": [],
   "source": [
    "# importing necessary libraries\n",
    "import pandas as pd\n",
    "import numpy as np\n",
    "import matplotlib.pyplot as plt\n",
    "import seaborn as sns\n",
    "from sklearn.model_selection import train_test_split\n",
    "from sklearn.tree import DecisionTreeClassifier\n",
    "from sklearn.metrics import roc_curve, auc\n",
    "from sklearn.preprocessing import LabelEncoder\n",
    "from sklearn.cluster import KMeans\n",
    "from sklearn.preprocessing import StandardScaler\n",
    "from ydata_profiling import ProfileReport"
   ]
  },
  {
   "cell_type": "code",
   "execution_count": 3,
   "id": "ba8ba96c-ffc9-4d27-b3e1-5f3f522a7caa",
   "metadata": {},
   "outputs": [
    {
     "data": {
      "text/html": [
       "<div>\n",
       "<style scoped>\n",
       "    .dataframe tbody tr th:only-of-type {\n",
       "        vertical-align: middle;\n",
       "    }\n",
       "\n",
       "    .dataframe tbody tr th {\n",
       "        vertical-align: top;\n",
       "    }\n",
       "\n",
       "    .dataframe thead th {\n",
       "        text-align: right;\n",
       "    }\n",
       "</style>\n",
       "<table border=\"1\" class=\"dataframe\">\n",
       "  <thead>\n",
       "    <tr style=\"text-align: right;\">\n",
       "      <th></th>\n",
       "      <th>HasDetections</th>\n",
       "      <th>Wdft_IsGamer</th>\n",
       "      <th>Census_IsVirtualDevice</th>\n",
       "      <th>Census_OSEdition</th>\n",
       "      <th>Census_HasOpticalDiskDrive</th>\n",
       "      <th>Firewall</th>\n",
       "      <th>SMode</th>\n",
       "      <th>IsProtected</th>\n",
       "      <th>OsPlatformSubRelease</th>\n",
       "      <th>CountryIdentifier</th>\n",
       "    </tr>\n",
       "  </thead>\n",
       "  <tbody>\n",
       "    <tr>\n",
       "      <th>0</th>\n",
       "      <td>0</td>\n",
       "      <td>0.0</td>\n",
       "      <td>0.0</td>\n",
       "      <td>Professional</td>\n",
       "      <td>0</td>\n",
       "      <td>1.0</td>\n",
       "      <td>0.0</td>\n",
       "      <td>1.0</td>\n",
       "      <td>rs4</td>\n",
       "      <td>29</td>\n",
       "    </tr>\n",
       "    <tr>\n",
       "      <th>1</th>\n",
       "      <td>0</td>\n",
       "      <td>0.0</td>\n",
       "      <td>0.0</td>\n",
       "      <td>Professional</td>\n",
       "      <td>0</td>\n",
       "      <td>1.0</td>\n",
       "      <td>0.0</td>\n",
       "      <td>1.0</td>\n",
       "      <td>rs4</td>\n",
       "      <td>93</td>\n",
       "    </tr>\n",
       "    <tr>\n",
       "      <th>2</th>\n",
       "      <td>0</td>\n",
       "      <td>0.0</td>\n",
       "      <td>0.0</td>\n",
       "      <td>Core</td>\n",
       "      <td>0</td>\n",
       "      <td>1.0</td>\n",
       "      <td>0.0</td>\n",
       "      <td>1.0</td>\n",
       "      <td>rs4</td>\n",
       "      <td>86</td>\n",
       "    </tr>\n",
       "    <tr>\n",
       "      <th>3</th>\n",
       "      <td>1</td>\n",
       "      <td>0.0</td>\n",
       "      <td>0.0</td>\n",
       "      <td>Professional</td>\n",
       "      <td>0</td>\n",
       "      <td>1.0</td>\n",
       "      <td>0.0</td>\n",
       "      <td>1.0</td>\n",
       "      <td>rs4</td>\n",
       "      <td>88</td>\n",
       "    </tr>\n",
       "    <tr>\n",
       "      <th>4</th>\n",
       "      <td>1</td>\n",
       "      <td>0.0</td>\n",
       "      <td>0.0</td>\n",
       "      <td>Core</td>\n",
       "      <td>0</td>\n",
       "      <td>1.0</td>\n",
       "      <td>0.0</td>\n",
       "      <td>1.0</td>\n",
       "      <td>rs4</td>\n",
       "      <td>18</td>\n",
       "    </tr>\n",
       "  </tbody>\n",
       "</table>\n",
       "</div>"
      ],
      "text/plain": [
       "   HasDetections  Wdft_IsGamer  Census_IsVirtualDevice Census_OSEdition  \\\n",
       "0              0           0.0                     0.0     Professional   \n",
       "1              0           0.0                     0.0     Professional   \n",
       "2              0           0.0                     0.0             Core   \n",
       "3              1           0.0                     0.0     Professional   \n",
       "4              1           0.0                     0.0             Core   \n",
       "\n",
       "   Census_HasOpticalDiskDrive  Firewall  SMode  IsProtected  \\\n",
       "0                           0       1.0    0.0          1.0   \n",
       "1                           0       1.0    0.0          1.0   \n",
       "2                           0       1.0    0.0          1.0   \n",
       "3                           0       1.0    0.0          1.0   \n",
       "4                           0       1.0    0.0          1.0   \n",
       "\n",
       "  OsPlatformSubRelease  CountryIdentifier  \n",
       "0                  rs4                 29  \n",
       "1                  rs4                 93  \n",
       "2                  rs4                 86  \n",
       "3                  rs4                 88  \n",
       "4                  rs4                 18  "
      ]
     },
     "execution_count": 3,
     "metadata": {},
     "output_type": "execute_result"
    }
   ],
   "source": [
    "# Load the dataset\n",
    "df = pd.read_csv('Microsoft_malware_dataset_min.csv')\n",
    "df.head()"
   ]
  },
  {
   "cell_type": "markdown",
   "id": "2ef3a2ae-cd38-4d1e-a1c2-3d6b0c802aed",
   "metadata": {},
   "source": [
    "### basic data exploration"
   ]
  },
  {
   "cell_type": "code",
   "execution_count": 4,
   "id": "5e677607-07bf-41ab-9c54-98f9992cde3f",
   "metadata": {},
   "outputs": [
    {
     "data": {
      "text/plain": [
       "(100000, 10)"
      ]
     },
     "execution_count": 4,
     "metadata": {},
     "output_type": "execute_result"
    }
   ],
   "source": [
    "df.shape"
   ]
  },
  {
   "cell_type": "code",
   "execution_count": 5,
   "id": "35b43b2a-45c3-4475-afb8-afe116ba4c28",
   "metadata": {},
   "outputs": [
    {
     "name": "stdout",
     "output_type": "stream",
     "text": [
      "<class 'pandas.core.frame.DataFrame'>\n",
      "RangeIndex: 100000 entries, 0 to 99999\n",
      "Data columns (total 10 columns):\n",
      " #   Column                      Non-Null Count   Dtype  \n",
      "---  ------                      --------------   -----  \n",
      " 0   HasDetections               100000 non-null  int64  \n",
      " 1   Wdft_IsGamer                96585 non-null   float64\n",
      " 2   Census_IsVirtualDevice      99815 non-null   float64\n",
      " 3   Census_OSEdition            100000 non-null  object \n",
      " 4   Census_HasOpticalDiskDrive  100000 non-null  int64  \n",
      " 5   Firewall                    98924 non-null   float64\n",
      " 6   SMode                       94068 non-null   float64\n",
      " 7   IsProtected                 99609 non-null   float64\n",
      " 8   OsPlatformSubRelease        100000 non-null  object \n",
      " 9   CountryIdentifier           100000 non-null  int64  \n",
      "dtypes: float64(5), int64(3), object(2)\n",
      "memory usage: 7.6+ MB\n"
     ]
    }
   ],
   "source": [
    "df.info()"
   ]
  },
  {
   "cell_type": "code",
   "execution_count": 6,
   "id": "e48966de-f0d2-4563-a2ea-01f4d2555ccb",
   "metadata": {},
   "outputs": [
    {
     "data": {
      "text/plain": [
       "HasDetections                    0\n",
       "Wdft_IsGamer                  3415\n",
       "Census_IsVirtualDevice         185\n",
       "Census_OSEdition                 0\n",
       "Census_HasOpticalDiskDrive       0\n",
       "Firewall                      1076\n",
       "SMode                         5932\n",
       "IsProtected                    391\n",
       "OsPlatformSubRelease             0\n",
       "CountryIdentifier                0\n",
       "dtype: int64"
      ]
     },
     "execution_count": 6,
     "metadata": {},
     "output_type": "execute_result"
    }
   ],
   "source": [
    "df.isnull().sum()"
   ]
  },
  {
   "cell_type": "code",
   "execution_count": 7,
   "id": "9062dd70-9b29-4190-bbe5-035c83d6f426",
   "metadata": {},
   "outputs": [
    {
     "data": {
      "application/vnd.jupyter.widget-view+json": {
       "model_id": "fa42959615fc4b638dcc9c508cf4e839",
       "version_major": 2,
       "version_minor": 0
      },
      "text/plain": [
       "Summarize dataset:   0%|          | 0/5 [00:00<?, ?it/s]"
      ]
     },
     "metadata": {},
     "output_type": "display_data"
    },
    {
     "data": {
      "application/vnd.jupyter.widget-view+json": {
       "model_id": "fbe3dbe110e64a4f87bb30943e5c5c8d",
       "version_major": 2,
       "version_minor": 0
      },
      "text/plain": [
       "Generate report structure:   0%|          | 0/1 [00:00<?, ?it/s]"
      ]
     },
     "metadata": {},
     "output_type": "display_data"
    },
    {
     "data": {
      "application/vnd.jupyter.widget-view+json": {
       "model_id": "02ae0537a71e4441978b26e2a52eb1c2",
       "version_major": 2,
       "version_minor": 0
      },
      "text/plain": [
       "Render HTML:   0%|          | 0/1 [00:00<?, ?it/s]"
      ]
     },
     "metadata": {},
     "output_type": "display_data"
    },
    {
     "data": {
      "application/vnd.jupyter.widget-view+json": {
       "model_id": "03718f32286144c5a26745523d36e11b",
       "version_major": 2,
       "version_minor": 0
      },
      "text/plain": [
       "Export report to file:   0%|          | 0/1 [00:00<?, ?it/s]"
      ]
     },
     "metadata": {},
     "output_type": "display_data"
    }
   ],
   "source": [
    "# Generate Pandas Profiling Report\n",
    "profile = ProfileReport(df, title=\"Malware Dataset Profiling Report\")\n",
    "profile.to_file(\"malware_profile_report.html\")"
   ]
  },
  {
   "cell_type": "code",
   "execution_count": 8,
   "id": "8ed59123-9fb9-44eb-9082-88dc75825ddc",
   "metadata": {},
   "outputs": [
    {
     "data": {
      "text/html": [
       "<div>\n",
       "<style scoped>\n",
       "    .dataframe tbody tr th:only-of-type {\n",
       "        vertical-align: middle;\n",
       "    }\n",
       "\n",
       "    .dataframe tbody tr th {\n",
       "        vertical-align: top;\n",
       "    }\n",
       "\n",
       "    .dataframe thead th {\n",
       "        text-align: right;\n",
       "    }\n",
       "</style>\n",
       "<table border=\"1\" class=\"dataframe\">\n",
       "  <thead>\n",
       "    <tr style=\"text-align: right;\">\n",
       "      <th></th>\n",
       "      <th>HasDetections</th>\n",
       "      <th>Wdft_IsGamer</th>\n",
       "      <th>Census_IsVirtualDevice</th>\n",
       "      <th>Census_HasOpticalDiskDrive</th>\n",
       "      <th>Firewall</th>\n",
       "      <th>SMode</th>\n",
       "      <th>IsProtected</th>\n",
       "      <th>CountryIdentifier</th>\n",
       "    </tr>\n",
       "  </thead>\n",
       "  <tbody>\n",
       "    <tr>\n",
       "      <th>count</th>\n",
       "      <td>100000.000000</td>\n",
       "      <td>96585.000000</td>\n",
       "      <td>99815.000000</td>\n",
       "      <td>100000.000000</td>\n",
       "      <td>98924.000000</td>\n",
       "      <td>94068.000000</td>\n",
       "      <td>99609.000000</td>\n",
       "      <td>100000.000000</td>\n",
       "    </tr>\n",
       "    <tr>\n",
       "      <th>mean</th>\n",
       "      <td>0.499280</td>\n",
       "      <td>0.281607</td>\n",
       "      <td>0.006642</td>\n",
       "      <td>0.075850</td>\n",
       "      <td>0.977326</td>\n",
       "      <td>0.000351</td>\n",
       "      <td>0.944864</td>\n",
       "      <td>108.188050</td>\n",
       "    </tr>\n",
       "    <tr>\n",
       "      <th>std</th>\n",
       "      <td>0.500002</td>\n",
       "      <td>0.449785</td>\n",
       "      <td>0.081230</td>\n",
       "      <td>0.264759</td>\n",
       "      <td>0.148863</td>\n",
       "      <td>0.018727</td>\n",
       "      <td>0.228246</td>\n",
       "      <td>62.989406</td>\n",
       "    </tr>\n",
       "    <tr>\n",
       "      <th>min</th>\n",
       "      <td>0.000000</td>\n",
       "      <td>0.000000</td>\n",
       "      <td>0.000000</td>\n",
       "      <td>0.000000</td>\n",
       "      <td>0.000000</td>\n",
       "      <td>0.000000</td>\n",
       "      <td>0.000000</td>\n",
       "      <td>1.000000</td>\n",
       "    </tr>\n",
       "    <tr>\n",
       "      <th>25%</th>\n",
       "      <td>0.000000</td>\n",
       "      <td>0.000000</td>\n",
       "      <td>0.000000</td>\n",
       "      <td>0.000000</td>\n",
       "      <td>1.000000</td>\n",
       "      <td>0.000000</td>\n",
       "      <td>1.000000</td>\n",
       "      <td>51.000000</td>\n",
       "    </tr>\n",
       "    <tr>\n",
       "      <th>50%</th>\n",
       "      <td>0.000000</td>\n",
       "      <td>0.000000</td>\n",
       "      <td>0.000000</td>\n",
       "      <td>0.000000</td>\n",
       "      <td>1.000000</td>\n",
       "      <td>0.000000</td>\n",
       "      <td>1.000000</td>\n",
       "      <td>97.000000</td>\n",
       "    </tr>\n",
       "    <tr>\n",
       "      <th>75%</th>\n",
       "      <td>1.000000</td>\n",
       "      <td>1.000000</td>\n",
       "      <td>0.000000</td>\n",
       "      <td>0.000000</td>\n",
       "      <td>1.000000</td>\n",
       "      <td>0.000000</td>\n",
       "      <td>1.000000</td>\n",
       "      <td>162.000000</td>\n",
       "    </tr>\n",
       "    <tr>\n",
       "      <th>max</th>\n",
       "      <td>1.000000</td>\n",
       "      <td>1.000000</td>\n",
       "      <td>1.000000</td>\n",
       "      <td>1.000000</td>\n",
       "      <td>1.000000</td>\n",
       "      <td>1.000000</td>\n",
       "      <td>1.000000</td>\n",
       "      <td>222.000000</td>\n",
       "    </tr>\n",
       "  </tbody>\n",
       "</table>\n",
       "</div>"
      ],
      "text/plain": [
       "       HasDetections  Wdft_IsGamer  Census_IsVirtualDevice  \\\n",
       "count  100000.000000  96585.000000            99815.000000   \n",
       "mean        0.499280      0.281607                0.006642   \n",
       "std         0.500002      0.449785                0.081230   \n",
       "min         0.000000      0.000000                0.000000   \n",
       "25%         0.000000      0.000000                0.000000   \n",
       "50%         0.000000      0.000000                0.000000   \n",
       "75%         1.000000      1.000000                0.000000   \n",
       "max         1.000000      1.000000                1.000000   \n",
       "\n",
       "       Census_HasOpticalDiskDrive      Firewall         SMode   IsProtected  \\\n",
       "count               100000.000000  98924.000000  94068.000000  99609.000000   \n",
       "mean                     0.075850      0.977326      0.000351      0.944864   \n",
       "std                      0.264759      0.148863      0.018727      0.228246   \n",
       "min                      0.000000      0.000000      0.000000      0.000000   \n",
       "25%                      0.000000      1.000000      0.000000      1.000000   \n",
       "50%                      0.000000      1.000000      0.000000      1.000000   \n",
       "75%                      0.000000      1.000000      0.000000      1.000000   \n",
       "max                      1.000000      1.000000      1.000000      1.000000   \n",
       "\n",
       "       CountryIdentifier  \n",
       "count      100000.000000  \n",
       "mean          108.188050  \n",
       "std            62.989406  \n",
       "min             1.000000  \n",
       "25%            51.000000  \n",
       "50%            97.000000  \n",
       "75%           162.000000  \n",
       "max           222.000000  "
      ]
     },
     "execution_count": 8,
     "metadata": {},
     "output_type": "execute_result"
    }
   ],
   "source": [
    "df.describe()"
   ]
  },
  {
   "cell_type": "code",
   "execution_count": 9,
   "id": "14178b6f-a0d3-40c6-bf42-02e4237ec49f",
   "metadata": {},
   "outputs": [],
   "source": [
    "# Handle Missing Values\n",
    "df.fillna({'Wdft_IsGamer': 0}, inplace=True)\n",
    "df.fillna({'SMode': 0}, inplace=True)"
   ]
  },
  {
   "cell_type": "code",
   "execution_count": 10,
   "id": "7f359581-3872-44dc-bf9b-1c1582a66355",
   "metadata": {},
   "outputs": [
    {
     "name": "stdout",
     "output_type": "stream",
     "text": [
      "\n",
      "Duplicates removed: 83371\n"
     ]
    }
   ],
   "source": [
    "# Remove duplicates\n",
    "df_cleaned = df.drop_duplicates()\n",
    "print(\"\\nDuplicates removed:\", df.shape[0] - df_cleaned.shape[0])"
   ]
  },
  {
   "cell_type": "code",
   "execution_count": 11,
   "id": "4c73cf34-8b72-4d82-a662-0f1a7e2ce9d4",
   "metadata": {},
   "outputs": [
    {
     "name": "stderr",
     "output_type": "stream",
     "text": [
      "C:\\Users\\harka\\AppData\\Local\\Temp\\ipykernel_13328\\2513362382.py:5: SettingWithCopyWarning: \n",
      "A value is trying to be set on a copy of a slice from a DataFrame.\n",
      "Try using .loc[row_indexer,col_indexer] = value instead\n",
      "\n",
      "See the caveats in the documentation: https://pandas.pydata.org/pandas-docs/stable/user_guide/indexing.html#returning-a-view-versus-a-copy\n",
      "  df_cleaned[col] = le.fit_transform(df_cleaned[col])\n",
      "C:\\Users\\harka\\AppData\\Local\\Temp\\ipykernel_13328\\2513362382.py:5: SettingWithCopyWarning: \n",
      "A value is trying to be set on a copy of a slice from a DataFrame.\n",
      "Try using .loc[row_indexer,col_indexer] = value instead\n",
      "\n",
      "See the caveats in the documentation: https://pandas.pydata.org/pandas-docs/stable/user_guide/indexing.html#returning-a-view-versus-a-copy\n",
      "  df_cleaned[col] = le.fit_transform(df_cleaned[col])\n"
     ]
    }
   ],
   "source": [
    "# Encode categorical features\n",
    "le = LabelEncoder()\n",
    "categorical_columns = ['Census_OSEdition', 'OsPlatformSubRelease']\n",
    "for col in categorical_columns:\n",
    "    df_cleaned[col] = le.fit_transform(df_cleaned[col])"
   ]
  },
  {
   "cell_type": "code",
   "execution_count": 12,
   "id": "39a5e9d7-efa9-4e7f-8104-25e520605ef4",
   "metadata": {},
   "outputs": [
    {
     "data": {
      "text/html": [
       "<div>\n",
       "<style scoped>\n",
       "    .dataframe tbody tr th:only-of-type {\n",
       "        vertical-align: middle;\n",
       "    }\n",
       "\n",
       "    .dataframe tbody tr th {\n",
       "        vertical-align: top;\n",
       "    }\n",
       "\n",
       "    .dataframe thead th {\n",
       "        text-align: right;\n",
       "    }\n",
       "</style>\n",
       "<table border=\"1\" class=\"dataframe\">\n",
       "  <thead>\n",
       "    <tr style=\"text-align: right;\">\n",
       "      <th></th>\n",
       "      <th>HasDetections</th>\n",
       "      <th>Wdft_IsGamer</th>\n",
       "      <th>Census_IsVirtualDevice</th>\n",
       "      <th>Census_OSEdition</th>\n",
       "      <th>Census_HasOpticalDiskDrive</th>\n",
       "      <th>Firewall</th>\n",
       "      <th>SMode</th>\n",
       "      <th>IsProtected</th>\n",
       "      <th>OsPlatformSubRelease</th>\n",
       "      <th>CountryIdentifier</th>\n",
       "    </tr>\n",
       "  </thead>\n",
       "  <tbody>\n",
       "    <tr>\n",
       "      <th>0</th>\n",
       "      <td>0</td>\n",
       "      <td>0.0</td>\n",
       "      <td>0.0</td>\n",
       "      <td>11</td>\n",
       "      <td>0</td>\n",
       "      <td>1.0</td>\n",
       "      <td>0.0</td>\n",
       "      <td>1.0</td>\n",
       "      <td>4</td>\n",
       "      <td>29</td>\n",
       "    </tr>\n",
       "    <tr>\n",
       "      <th>1</th>\n",
       "      <td>0</td>\n",
       "      <td>0.0</td>\n",
       "      <td>0.0</td>\n",
       "      <td>11</td>\n",
       "      <td>0</td>\n",
       "      <td>1.0</td>\n",
       "      <td>0.0</td>\n",
       "      <td>1.0</td>\n",
       "      <td>4</td>\n",
       "      <td>93</td>\n",
       "    </tr>\n",
       "    <tr>\n",
       "      <th>2</th>\n",
       "      <td>0</td>\n",
       "      <td>0.0</td>\n",
       "      <td>0.0</td>\n",
       "      <td>1</td>\n",
       "      <td>0</td>\n",
       "      <td>1.0</td>\n",
       "      <td>0.0</td>\n",
       "      <td>1.0</td>\n",
       "      <td>4</td>\n",
       "      <td>86</td>\n",
       "    </tr>\n",
       "    <tr>\n",
       "      <th>3</th>\n",
       "      <td>1</td>\n",
       "      <td>0.0</td>\n",
       "      <td>0.0</td>\n",
       "      <td>11</td>\n",
       "      <td>0</td>\n",
       "      <td>1.0</td>\n",
       "      <td>0.0</td>\n",
       "      <td>1.0</td>\n",
       "      <td>4</td>\n",
       "      <td>88</td>\n",
       "    </tr>\n",
       "    <tr>\n",
       "      <th>4</th>\n",
       "      <td>1</td>\n",
       "      <td>0.0</td>\n",
       "      <td>0.0</td>\n",
       "      <td>1</td>\n",
       "      <td>0</td>\n",
       "      <td>1.0</td>\n",
       "      <td>0.0</td>\n",
       "      <td>1.0</td>\n",
       "      <td>4</td>\n",
       "      <td>18</td>\n",
       "    </tr>\n",
       "  </tbody>\n",
       "</table>\n",
       "</div>"
      ],
      "text/plain": [
       "   HasDetections  Wdft_IsGamer  Census_IsVirtualDevice  Census_OSEdition  \\\n",
       "0              0           0.0                     0.0                11   \n",
       "1              0           0.0                     0.0                11   \n",
       "2              0           0.0                     0.0                 1   \n",
       "3              1           0.0                     0.0                11   \n",
       "4              1           0.0                     0.0                 1   \n",
       "\n",
       "   Census_HasOpticalDiskDrive  Firewall  SMode  IsProtected  \\\n",
       "0                           0       1.0    0.0          1.0   \n",
       "1                           0       1.0    0.0          1.0   \n",
       "2                           0       1.0    0.0          1.0   \n",
       "3                           0       1.0    0.0          1.0   \n",
       "4                           0       1.0    0.0          1.0   \n",
       "\n",
       "   OsPlatformSubRelease  CountryIdentifier  \n",
       "0                     4                 29  \n",
       "1                     4                 93  \n",
       "2                     4                 86  \n",
       "3                     4                 88  \n",
       "4                     4                 18  "
      ]
     },
     "execution_count": 12,
     "metadata": {},
     "output_type": "execute_result"
    }
   ],
   "source": [
    "df_cleaned.head()"
   ]
  },
  {
   "cell_type": "code",
   "execution_count": 29,
   "id": "16b9a258-4eb3-437b-a4f5-39e50f2439ac",
   "metadata": {},
   "outputs": [
    {
     "data": {
      "text/plain": [
       "HasDetections                   0\n",
       "Wdft_IsGamer                    0\n",
       "Census_IsVirtualDevice        152\n",
       "Census_OSEdition                0\n",
       "Census_HasOpticalDiskDrive      0\n",
       "Firewall                      452\n",
       "SMode                           0\n",
       "IsProtected                   339\n",
       "OsPlatformSubRelease            0\n",
       "CountryIdentifier               0\n",
       "dtype: int64"
      ]
     },
     "execution_count": 29,
     "metadata": {},
     "output_type": "execute_result"
    }
   ],
   "source": [
    "df_cleaned.isnull().sum()"
   ]
  },
  {
   "cell_type": "code",
   "execution_count": 30,
   "id": "fa409add-95f6-4b9e-9d14-c9dc6e5771da",
   "metadata": {},
   "outputs": [
    {
     "name": "stderr",
     "output_type": "stream",
     "text": [
      "C:\\Users\\harka\\AppData\\Local\\Temp\\ipykernel_13328\\1365445100.py:2: SettingWithCopyWarning: \n",
      "A value is trying to be set on a copy of a slice from a DataFrame\n",
      "\n",
      "See the caveats in the documentation: https://pandas.pydata.org/pandas-docs/stable/user_guide/indexing.html#returning-a-view-versus-a-copy\n",
      "  df_cleaned.fillna({'Census_IsVirtualDevice': 0}, inplace=True)\n",
      "C:\\Users\\harka\\AppData\\Local\\Temp\\ipykernel_13328\\1365445100.py:3: SettingWithCopyWarning: \n",
      "A value is trying to be set on a copy of a slice from a DataFrame\n",
      "\n",
      "See the caveats in the documentation: https://pandas.pydata.org/pandas-docs/stable/user_guide/indexing.html#returning-a-view-versus-a-copy\n",
      "  df_cleaned.fillna({'Firewall': 0}, inplace=True)\n",
      "C:\\Users\\harka\\AppData\\Local\\Temp\\ipykernel_13328\\1365445100.py:4: SettingWithCopyWarning: \n",
      "A value is trying to be set on a copy of a slice from a DataFrame\n",
      "\n",
      "See the caveats in the documentation: https://pandas.pydata.org/pandas-docs/stable/user_guide/indexing.html#returning-a-view-versus-a-copy\n",
      "  df_cleaned.fillna({'IsProtected': 0}, inplace=True)\n"
     ]
    }
   ],
   "source": [
    "# Handle Missing Values\n",
    "df_cleaned.fillna({'Census_IsVirtualDevice': 0}, inplace=True)\n",
    "df_cleaned.fillna({'Firewall': 0}, inplace=True)\n",
    "df_cleaned.fillna({'IsProtected': 0}, inplace=True)"
   ]
  },
  {
   "cell_type": "code",
   "execution_count": 31,
   "id": "11ac381a-05ed-4141-8876-1845a9df331b",
   "metadata": {},
   "outputs": [],
   "source": [
    "# Prepare for modeling\n",
    "x = df_cleaned.drop('HasDetections', axis=1)\n",
    "y = df_cleaned['HasDetections']"
   ]
  },
  {
   "cell_type": "code",
   "execution_count": 32,
   "id": "9ba89a5e-f097-4ce0-96e0-f2daf7bbcf98",
   "metadata": {},
   "outputs": [],
   "source": [
    "# Splitting the data\n",
    "x_train, x_test, y_train, y_test = train_test_split(x, y, test_size=0.2, random_state=42)"
   ]
  },
  {
   "cell_type": "code",
   "execution_count": 33,
   "id": "94cd33c3-edba-483c-ba99-c6509a68b81b",
   "metadata": {},
   "outputs": [],
   "source": [
    "# Train Decision Tree and plot ROC curve\n",
    "plt.figure(figsize=(10, 6))\n",
    "for max_depth in [3, 5, 7, 10]:\n",
    "    dt = DecisionTreeClassifier(max_depth=max_depth, random_state=42)\n",
    "    dt.fit(x_train, y_train)\n",
    "    y_pred_proba = dt.predict_proba(x_test)[:, 1]\n",
    "    \n",
    "    fpr, tpr, _ = roc_curve(y_test, y_pred_proba)\n",
    "    roc_auc = auc(fpr, tpr)\n",
    "    \n",
    "    plt.plot(fpr, tpr, label=f'ROC curve (max_depth={max_depth}) (AUC = {roc_auc:.2f})')\n",
    "\n",
    "plt.plot([0, 1], [0, 1], 'k--')\n",
    "plt.xlim([0.0, 1.0])\n",
    "plt.ylim([0.0, 1.05])\n",
    "plt.xlabel('False Positive Rate')\n",
    "plt.ylabel('True Positive Rate')\n",
    "plt.title('ROC Curves for Different Decision Tree Depths')\n",
    "plt.legend(loc=\"lower right\")\n",
    "plt.savefig('roc_curves.png')\n",
    "plt.close()"
   ]
  },
  {
   "cell_type": "markdown",
   "id": "2e1e5524-00dd-4756-b7c9-4b95d43e1bfb",
   "metadata": {},
   "source": [
    "## Unsupervised Learning"
   ]
  },
  {
   "cell_type": "code",
   "execution_count": 34,
   "id": "889db1d0-5e34-4877-b5dd-69d85fd9d7d2",
   "metadata": {},
   "outputs": [],
   "source": [
    "# Prepare data for clustering\n",
    "x_cluster = df_cleaned.drop('HasDetections', axis=1)\n",
    "scaler = StandardScaler()\n",
    "x_scaled = scaler.fit_transform(x_cluster)"
   ]
  },
  {
   "cell_type": "code",
   "execution_count": 35,
   "id": "f58d6717-8212-4e02-8992-c74477c80f94",
   "metadata": {},
   "outputs": [],
   "source": [
    "# Find optimal K using elbow method\n",
    "inertias = []\n",
    "K = range(1, 11)\n",
    "for k in K:\n",
    "    kmeans = KMeans(n_clusters=k, random_state=42)\n",
    "    kmeans.fit(x_scaled)\n",
    "    inertias.append(kmeans.inertia_)"
   ]
  },
  {
   "cell_type": "code",
   "execution_count": 38,
   "id": "786f0199-52d4-4219-acf6-089147246855",
   "metadata": {},
   "outputs": [],
   "source": [
    "# Plot elbow curve\n",
    "plt.figure(figsize=(10, 6))\n",
    "plt.plot(K, inertias, 'bx-')\n",
    "plt.xlabel('k')\n",
    "plt.ylabel('Inertia')\n",
    "plt.title('Elbow Method For Optimal k')\n",
    "plt.savefig('elbow_curve.png')\n",
    "plt.close()"
   ]
  },
  {
   "cell_type": "code",
   "execution_count": 39,
   "id": "1135b0b5-a034-488d-aea2-3819f6e9604c",
   "metadata": {},
   "outputs": [],
   "source": [
    "# Apply K-means with optimal K\n",
    "optimal_k = 4  # Based on elbow curve\n",
    "kmeans = KMeans(n_clusters=optimal_k, random_state=42)\n",
    "clusters = kmeans.fit_predict(x_scaled)"
   ]
  },
  {
   "cell_type": "code",
   "execution_count": 42,
   "id": "f2585480-a8f3-4795-9cb9-bedf4e7a57fc",
   "metadata": {},
   "outputs": [],
   "source": [
    " # Visualizing clusters using first two features\n",
    "plt.figure(figsize=(10, 6))\n",
    "scatter = plt.scatter(x_scaled[:, 0], x_scaled[:, 1], c=clusters, cmap='viridis')\n",
    "plt.xlabel('Feature 1')\n",
    "plt.ylabel('Feature 2')\n",
    "plt.title('K-means Clustering Results')\n",
    "plt.colorbar(scatter)\n",
    "plt.savefig('K-means cluster')\n",
    "plt.close()"
   ]
  }
 ],
 "metadata": {
  "kernelspec": {
   "display_name": "Python 3 (ipykernel)",
   "language": "python",
   "name": "python3"
  },
  "language_info": {
   "codemirror_mode": {
    "name": "ipython",
    "version": 3
   },
   "file_extension": ".py",
   "mimetype": "text/x-python",
   "name": "python",
   "nbconvert_exporter": "python",
   "pygments_lexer": "ipython3",
   "version": "3.12.7"
  },
  "widgets": {
   "application/vnd.jupyter.widget-state+json": {
    "state": {
     "02ae0537a71e4441978b26e2a52eb1c2": {
      "model_module": "@jupyter-widgets/controls",
      "model_module_version": "2.0.0",
      "model_name": "HBoxModel",
      "state": {
       "children": [
        "IPY_MODEL_9edf350cbb8842eda425587c711b7d1b",
        "IPY_MODEL_154efb79e52b45c7bc14695b47ae0f24",
        "IPY_MODEL_d95abbda0e4144f8a56d9da64d8dd27c"
       ],
       "layout": "IPY_MODEL_e866a33b454b47b5a1ced0e7afdbfa7f"
      }
     },
     "03718f32286144c5a26745523d36e11b": {
      "model_module": "@jupyter-widgets/controls",
      "model_module_version": "2.0.0",
      "model_name": "HBoxModel",
      "state": {
       "children": [
        "IPY_MODEL_fa6afee545f9439a936c1b1896e5dc3e",
        "IPY_MODEL_60c17861523f46728e6c88521c643021",
        "IPY_MODEL_49311f64eb854dd297df9dc833357ce1"
       ],
       "layout": "IPY_MODEL_b15d1302658343f19a4592d37a0b7997"
      }
     },
     "044887b3423540948e6981374fe6451d": {
      "model_module": "@jupyter-widgets/base",
      "model_module_version": "2.0.0",
      "model_name": "LayoutModel",
      "state": {}
     },
     "154efb79e52b45c7bc14695b47ae0f24": {
      "model_module": "@jupyter-widgets/controls",
      "model_module_version": "2.0.0",
      "model_name": "FloatProgressModel",
      "state": {
       "bar_style": "success",
       "layout": "IPY_MODEL_c8a43810046d43c786389a664acf68ab",
       "max": 1,
       "style": "IPY_MODEL_db2853a1b20347c193df82b8de88a901",
       "value": 1
      }
     },
     "17f5a66e4e9b4c21b7b7aca0bd5c7b3a": {
      "model_module": "@jupyter-widgets/controls",
      "model_module_version": "2.0.0",
      "model_name": "ProgressStyleModel",
      "state": {
       "description_width": ""
      }
     },
     "19446554b51e4e56b930326f68cabdab": {
      "model_module": "@jupyter-widgets/base",
      "model_module_version": "2.0.0",
      "model_name": "LayoutModel",
      "state": {}
     },
     "216c6b256b274904837e91b434bb15e4": {
      "model_module": "@jupyter-widgets/controls",
      "model_module_version": "2.0.0",
      "model_name": "ProgressStyleModel",
      "state": {
       "description_width": ""
      }
     },
     "25ac90880cf044efa85061ab7bb82de5": {
      "model_module": "@jupyter-widgets/controls",
      "model_module_version": "2.0.0",
      "model_name": "HTMLModel",
      "state": {
       "layout": "IPY_MODEL_b6e8e0993140438884aed8b20ad5a080",
       "style": "IPY_MODEL_5937cbf6c0cc4eabaf9c9b012b6bc194",
       "value": " 1/1 [00:04&lt;00:00,  4.92s/it]"
      }
     },
     "35b2bd0e5c8f42adb18995aa0ecea4bc": {
      "model_module": "@jupyter-widgets/base",
      "model_module_version": "2.0.0",
      "model_name": "LayoutModel",
      "state": {}
     },
     "36e048a6334444459e7192cdbb2aaae2": {
      "model_module": "@jupyter-widgets/controls",
      "model_module_version": "2.0.0",
      "model_name": "HTMLStyleModel",
      "state": {
       "description_width": "",
       "font_size": null,
       "text_color": null
      }
     },
     "44c1dbc83df44e0ab6e69ed50f110766": {
      "model_module": "@jupyter-widgets/controls",
      "model_module_version": "2.0.0",
      "model_name": "HTMLModel",
      "state": {
       "layout": "IPY_MODEL_6b702a5f19eb4b1893161119faa06c25",
       "style": "IPY_MODEL_a5779540a286430ebebfb70ca2d0e410",
       "value": "Generate report structure: 100%"
      }
     },
     "45032c1e03f040a4a4094709330ddc61": {
      "model_module": "@jupyter-widgets/base",
      "model_module_version": "2.0.0",
      "model_name": "LayoutModel",
      "state": {}
     },
     "49311f64eb854dd297df9dc833357ce1": {
      "model_module": "@jupyter-widgets/controls",
      "model_module_version": "2.0.0",
      "model_name": "HTMLModel",
      "state": {
       "layout": "IPY_MODEL_044887b3423540948e6981374fe6451d",
       "style": "IPY_MODEL_a5f68bf8cb7b4e8e8f2b4d09d6123ec1",
       "value": " 1/1 [00:00&lt;00:00, 21.45it/s]"
      }
     },
     "503ad6a8fbaf4a1e98963d0b76c7f0db": {
      "model_module": "@jupyter-widgets/controls",
      "model_module_version": "2.0.0",
      "model_name": "FloatProgressModel",
      "state": {
       "bar_style": "success",
       "layout": "IPY_MODEL_64bb037776ed4d7c8469735a82cf82ba",
       "max": 1,
       "style": "IPY_MODEL_980b5acfbc15495888e4b3ab61cc703b",
       "value": 1
      }
     },
     "5937cbf6c0cc4eabaf9c9b012b6bc194": {
      "model_module": "@jupyter-widgets/controls",
      "model_module_version": "2.0.0",
      "model_name": "HTMLStyleModel",
      "state": {
       "description_width": "",
       "font_size": null,
       "text_color": null
      }
     },
     "5c33aa6f211f48458a69f19d5fab5e81": {
      "model_module": "@jupyter-widgets/base",
      "model_module_version": "2.0.0",
      "model_name": "LayoutModel",
      "state": {}
     },
     "5ea586ee07fb4c209047797851f89253": {
      "model_module": "@jupyter-widgets/controls",
      "model_module_version": "2.0.0",
      "model_name": "HTMLStyleModel",
      "state": {
       "description_width": "",
       "font_size": null,
       "text_color": null
      }
     },
     "60c17861523f46728e6c88521c643021": {
      "model_module": "@jupyter-widgets/controls",
      "model_module_version": "2.0.0",
      "model_name": "FloatProgressModel",
      "state": {
       "bar_style": "success",
       "layout": "IPY_MODEL_45032c1e03f040a4a4094709330ddc61",
       "max": 1,
       "style": "IPY_MODEL_216c6b256b274904837e91b434bb15e4",
       "value": 1
      }
     },
     "62fdd6c0096b498d879c0fd569b0338d": {
      "model_module": "@jupyter-widgets/base",
      "model_module_version": "2.0.0",
      "model_name": "LayoutModel",
      "state": {}
     },
     "64bb037776ed4d7c8469735a82cf82ba": {
      "model_module": "@jupyter-widgets/base",
      "model_module_version": "2.0.0",
      "model_name": "LayoutModel",
      "state": {}
     },
     "6b702a5f19eb4b1893161119faa06c25": {
      "model_module": "@jupyter-widgets/base",
      "model_module_version": "2.0.0",
      "model_name": "LayoutModel",
      "state": {}
     },
     "71beea1cd0ee4871b4d809c72ee40bd0": {
      "model_module": "@jupyter-widgets/controls",
      "model_module_version": "2.0.0",
      "model_name": "FloatProgressModel",
      "state": {
       "bar_style": "success",
       "layout": "IPY_MODEL_35b2bd0e5c8f42adb18995aa0ecea4bc",
       "max": 5,
       "style": "IPY_MODEL_17f5a66e4e9b4c21b7b7aca0bd5c7b3a",
       "value": 5
      }
     },
     "980b5acfbc15495888e4b3ab61cc703b": {
      "model_module": "@jupyter-widgets/controls",
      "model_module_version": "2.0.0",
      "model_name": "ProgressStyleModel",
      "state": {
       "description_width": ""
      }
     },
     "9edf350cbb8842eda425587c711b7d1b": {
      "model_module": "@jupyter-widgets/controls",
      "model_module_version": "2.0.0",
      "model_name": "HTMLModel",
      "state": {
       "layout": "IPY_MODEL_19446554b51e4e56b930326f68cabdab",
       "style": "IPY_MODEL_36e048a6334444459e7192cdbb2aaae2",
       "value": "Render HTML: 100%"
      }
     },
     "9ffc4abbe52d49e98f15d20d5bebdf37": {
      "model_module": "@jupyter-widgets/base",
      "model_module_version": "2.0.0",
      "model_name": "LayoutModel",
      "state": {}
     },
     "a5779540a286430ebebfb70ca2d0e410": {
      "model_module": "@jupyter-widgets/controls",
      "model_module_version": "2.0.0",
      "model_name": "HTMLStyleModel",
      "state": {
       "description_width": "",
       "font_size": null,
       "text_color": null
      }
     },
     "a5f68bf8cb7b4e8e8f2b4d09d6123ec1": {
      "model_module": "@jupyter-widgets/controls",
      "model_module_version": "2.0.0",
      "model_name": "HTMLStyleModel",
      "state": {
       "description_width": "",
       "font_size": null,
       "text_color": null
      }
     },
     "aa5674ccda3a4e39b2432d0fc3833804": {
      "model_module": "@jupyter-widgets/base",
      "model_module_version": "2.0.0",
      "model_name": "LayoutModel",
      "state": {}
     },
     "aca148f6b3754755964f88d08be29c6d": {
      "model_module": "@jupyter-widgets/controls",
      "model_module_version": "2.0.0",
      "model_name": "HTMLModel",
      "state": {
       "layout": "IPY_MODEL_c7929029cff340c5a9670a4668325c4b",
       "style": "IPY_MODEL_e5eb4f86bdbd4045a153a065174c7997",
       "value": " 21/21 [00:06&lt;00:00,  4.19it/s, Completed]"
      }
     },
     "af0455c153cc40b2b0962a65a8d10d63": {
      "model_module": "@jupyter-widgets/controls",
      "model_module_version": "2.0.0",
      "model_name": "HTMLModel",
      "state": {
       "layout": "IPY_MODEL_9ffc4abbe52d49e98f15d20d5bebdf37",
       "style": "IPY_MODEL_fa62e6454df14a0a8f36546baf59be33",
       "value": "Summarize dataset: 100%"
      }
     },
     "b15d1302658343f19a4592d37a0b7997": {
      "model_module": "@jupyter-widgets/base",
      "model_module_version": "2.0.0",
      "model_name": "LayoutModel",
      "state": {}
     },
     "b6e8e0993140438884aed8b20ad5a080": {
      "model_module": "@jupyter-widgets/base",
      "model_module_version": "2.0.0",
      "model_name": "LayoutModel",
      "state": {}
     },
     "c4d344234c2844bf8f1d3ef7f2e8b27a": {
      "model_module": "@jupyter-widgets/controls",
      "model_module_version": "2.0.0",
      "model_name": "HTMLStyleModel",
      "state": {
       "description_width": "",
       "font_size": null,
       "text_color": null
      }
     },
     "c7929029cff340c5a9670a4668325c4b": {
      "model_module": "@jupyter-widgets/base",
      "model_module_version": "2.0.0",
      "model_name": "LayoutModel",
      "state": {}
     },
     "c8a43810046d43c786389a664acf68ab": {
      "model_module": "@jupyter-widgets/base",
      "model_module_version": "2.0.0",
      "model_name": "LayoutModel",
      "state": {}
     },
     "d95abbda0e4144f8a56d9da64d8dd27c": {
      "model_module": "@jupyter-widgets/controls",
      "model_module_version": "2.0.0",
      "model_name": "HTMLModel",
      "state": {
       "layout": "IPY_MODEL_aa5674ccda3a4e39b2432d0fc3833804",
       "style": "IPY_MODEL_c4d344234c2844bf8f1d3ef7f2e8b27a",
       "value": " 1/1 [00:01&lt;00:00,  1.66s/it]"
      }
     },
     "db2853a1b20347c193df82b8de88a901": {
      "model_module": "@jupyter-widgets/controls",
      "model_module_version": "2.0.0",
      "model_name": "ProgressStyleModel",
      "state": {
       "description_width": ""
      }
     },
     "e5eb4f86bdbd4045a153a065174c7997": {
      "model_module": "@jupyter-widgets/controls",
      "model_module_version": "2.0.0",
      "model_name": "HTMLStyleModel",
      "state": {
       "description_width": "",
       "font_size": null,
       "text_color": null
      }
     },
     "e866a33b454b47b5a1ced0e7afdbfa7f": {
      "model_module": "@jupyter-widgets/base",
      "model_module_version": "2.0.0",
      "model_name": "LayoutModel",
      "state": {}
     },
     "f4df8c4940324029a4005391006b1397": {
      "model_module": "@jupyter-widgets/base",
      "model_module_version": "2.0.0",
      "model_name": "LayoutModel",
      "state": {}
     },
     "fa42959615fc4b638dcc9c508cf4e839": {
      "model_module": "@jupyter-widgets/controls",
      "model_module_version": "2.0.0",
      "model_name": "HBoxModel",
      "state": {
       "children": [
        "IPY_MODEL_af0455c153cc40b2b0962a65a8d10d63",
        "IPY_MODEL_71beea1cd0ee4871b4d809c72ee40bd0",
        "IPY_MODEL_aca148f6b3754755964f88d08be29c6d"
       ],
       "layout": "IPY_MODEL_5c33aa6f211f48458a69f19d5fab5e81"
      }
     },
     "fa62e6454df14a0a8f36546baf59be33": {
      "model_module": "@jupyter-widgets/controls",
      "model_module_version": "2.0.0",
      "model_name": "HTMLStyleModel",
      "state": {
       "description_width": "",
       "font_size": null,
       "text_color": null
      }
     },
     "fa6afee545f9439a936c1b1896e5dc3e": {
      "model_module": "@jupyter-widgets/controls",
      "model_module_version": "2.0.0",
      "model_name": "HTMLModel",
      "state": {
       "layout": "IPY_MODEL_62fdd6c0096b498d879c0fd569b0338d",
       "style": "IPY_MODEL_5ea586ee07fb4c209047797851f89253",
       "value": "Export report to file: 100%"
      }
     },
     "fbe3dbe110e64a4f87bb30943e5c5c8d": {
      "model_module": "@jupyter-widgets/controls",
      "model_module_version": "2.0.0",
      "model_name": "HBoxModel",
      "state": {
       "children": [
        "IPY_MODEL_44c1dbc83df44e0ab6e69ed50f110766",
        "IPY_MODEL_503ad6a8fbaf4a1e98963d0b76c7f0db",
        "IPY_MODEL_25ac90880cf044efa85061ab7bb82de5"
       ],
       "layout": "IPY_MODEL_f4df8c4940324029a4005391006b1397"
      }
     }
    },
    "version_major": 2,
    "version_minor": 0
   }
  }
 },
 "nbformat": 4,
 "nbformat_minor": 5
}
